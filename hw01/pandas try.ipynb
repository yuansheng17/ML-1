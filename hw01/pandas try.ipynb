{
 "cells": [
  {
   "cell_type": "code",
   "execution_count": 1,
   "metadata": {},
   "outputs": [],
   "source": [
    "import pandas as pd\n",
    "scores = pd.Series({'小明':90, '小華':80, '小李':70})\n",
    "#Series簡單的創建方法，直接給一個dictionary\n",
    "#新增資料的方法，有點像是陣列\n",
    "scores['小強'] = 55"
   ]
  },
  {
   "cell_type": "code",
   "execution_count": 6,
   "metadata": {},
   "outputs": [
    {
     "name": "stdout",
     "output_type": "stream",
     "text": [
      "count     4.000000\n",
      "mean     73.750000\n",
      "std      14.930394\n",
      "min      55.000000\n",
      "25%      66.250000\n",
      "50%      75.000000\n",
      "75%      82.500000\n",
      "max      90.000000\n",
      "dtype: float64\n",
      "73.75\n"
     ]
    }
   ],
   "source": [
    "print(scores.describe())\n",
    "#可以印出一些平均、標準差等資料\n",
    "print(scores.mean())\n",
    "#也可以直接指定，求平均"
   ]
  },
  {
   "cell_type": "code",
   "execution_count": 7,
   "metadata": {},
   "outputs": [
    {
     "name": "stdout",
     "output_type": "stream",
     "text": [
      "小明     True\n",
      "小華     True\n",
      "小李     True\n",
      "小強    False\n",
      "dtype: bool\n"
     ]
    }
   ],
   "source": [
    "print(scores > 60)"
   ]
  },
  {
   "cell_type": "code",
   "execution_count": 8,
   "metadata": {},
   "outputs": [
    {
     "name": "stdout",
     "output_type": "stream",
     "text": [
      "小明    90\n",
      "小華    80\n",
      "小李    70\n",
      "dtype: int64\n"
     ]
    }
   ],
   "source": [
    "print(scores[scores > 60])"
   ]
  },
  {
   "cell_type": "code",
   "execution_count": 9,
   "metadata": {},
   "outputs": [
    {
     "name": "stdout",
     "output_type": "stream",
     "text": [
      "小明    False\n",
      "小華     True\n",
      "小李     True\n",
      "小強    False\n",
      "dtype: bool\n"
     ]
    }
   ],
   "source": [
    "print((scores>60) & (scores<90))"
   ]
  },
  {
   "cell_type": "code",
   "execution_count": 10,
   "metadata": {},
   "outputs": [
    {
     "name": "stdout",
     "output_type": "stream",
     "text": [
      "小華    80\n",
      "小李    70\n",
      "dtype: int64\n"
     ]
    }
   ],
   "source": [
    "print(scores[(scores>60) & (scores<90)])"
   ]
  },
  {
   "cell_type": "code",
   "execution_count": 11,
   "metadata": {},
   "outputs": [
    {
     "name": "stdout",
     "output_type": "stream",
     "text": [
      "小明    94.868330\n",
      "小華    89.442719\n",
      "小李    83.666003\n",
      "小強    74.161985\n",
      "dtype: float64\n"
     ]
    }
   ],
   "source": [
    "new_scores = scores**0.5*10\n",
    "print(new_scores)"
   ]
  },
  {
   "cell_type": "code",
   "execution_count": null,
   "metadata": {},
   "outputs": [],
   "source": []
  }
 ],
 "metadata": {
  "kernelspec": {
   "display_name": "Python 3",
   "language": "python",
   "name": "python3"
  },
  "language_info": {
   "codemirror_mode": {
    "name": "ipython",
    "version": 3
   },
   "file_extension": ".py",
   "mimetype": "text/x-python",
   "name": "python",
   "nbconvert_exporter": "python",
   "pygments_lexer": "ipython3",
   "version": "3.7.3"
  }
 },
 "nbformat": 4,
 "nbformat_minor": 2
}
